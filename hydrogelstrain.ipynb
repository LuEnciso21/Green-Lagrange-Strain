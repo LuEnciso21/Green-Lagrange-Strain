{
 "cells": [
  {
   "cell_type": "markdown",
   "id": "3d65ee9d",
   "metadata": {},
   "source": [
    "# Green–Lagrange Strain Tensor [1]\n",
    "\n",
    "The **Green–Lagrange strain tensor** is directly defined in terms of the right Cauchy–Green deformation tensor by:\n",
    "\n",
    "$$\n",
    "\\mathbf{E} = \\frac{1}{2} (\\mathbf{C} - \\mathbf{I})\n",
    "$$\n",
    "\n",
    "where $\\mathbf{I}$ is the identity tensor, and its components are denoted $E_{ij}$ with $i, j = 1, \\dots, 3$.\n",
    "\n",
    "As with the strain tensor components, the values depend on the basis in which they are written. Some formulations use the **strain invariants** to express the constitutive law. For isotropic media, these invariants are given by:\n",
    "\n",
    "$$\n",
    "\\begin{aligned}\n",
    "I_1 &= \\text{tr}(\\mathbf{C}) \\\\\n",
    "I_2 &= \\frac{1}{2} \\left[ \\text{tr}(\\mathbf{C})^2 - \\text{tr}(\\mathbf{C}^2) \\right] \\\\\n",
    "I_3 &= \\det(\\mathbf{C})\n",
    "\\end{aligned}\n",
    "$$\n",
    "\n",
    "where `tr` is the trace operator, and `det` is the determinant operator.\n",
    "\n",
    "## Cauchy-Green Tensors [1]\n",
    "\n",
    "The deformation of soft tissues is often described by means of the **right and left Cauchy–Green tensors**, defined as:\n",
    "\n",
    "$$\n",
    "\\mathbf{C} = \\mathbf{F}^\\mathrm{T} \\mathbf{F} \\quad \\text{and} \\quad \n",
    "\\mathbf{B} = \\mathbf{F} \\mathbf{F}^\\mathrm{T}\n",
    "$$\n",
    "\n",
    "where $\\mathbf{F}$ is the deformation gradient.  \n",
    "\n",
    "The **principal components** of the right or left Cauchy–Green tensors are $\\lambda_i^2$ with $i = 1, \\dots, 3$, where $\\lambda_i$ are the **principal stretches**.  \n",
    "\n",
    "## Deformation Gradient [2]\n",
    "\n",
    "The **deformation gradient** $\\mathbf{F}$ is defined by:\n",
    "\n",
    "$$\n",
    "\\mathbf{F} = \\frac{\\partial \\mathcal{X}(\\mathbf{X}, t)}{\\partial \\mathbf{X}}\n",
    "$$\n",
    "\n",
    "which in **index notation** can be written as:\n",
    "\n",
    "$$\n",
    "F_{ij} = \\frac{\\partial x_i}{\\partial X_j}\n",
    "$$\n",
    "\n",
    "The deformation gradient is a very important descriptor of the applied deformation state and is extensively used in both theoretical and computational works.\n",
    "\n",
    "\n",
    "\n",
    "---\n",
    "\n",
    "### Reference\n",
    "\n",
    "[1] Chagnon, G., Ohayon, J., Martiel, J.-L., & Favier, D. (2017). *Hyperelasticity modeling for incompressible passive biological tissues.* In Y. Payan & J. Ohayon (Eds.), *Translational epigenetics: Biomechanics of living organs* (Vol. 1, pp. 3–30). Academic Press. [https://doi.org/10.1016/B978-0-12-804009-6.00001-8](https://doi.org/10.1016/B978-0-12-804009-6.00001-8)\n",
    "\n",
    "[2] Bergström, J. S. (2015). *Continuum mechanics foundations.* In *Mechanics of Solid Polymers: Theory and Computational Modeling* (pp. 131–207). William Andrew Publishing. [https://doi.org/10.1016/B978-0-323-31150-2.00004-2](https://doi.org/10.1016/B978-0-323-31150-2.00004-2)\n",
    "\n",
    "\n"
   ]
  },
  {
   "cell_type": "code",
   "execution_count": 1,
   "id": "48e93fe2",
   "metadata": {},
   "outputs": [],
   "source": [
    "path=\"fullSpatialJacobian.nii\""
   ]
  },
  {
   "cell_type": "code",
   "execution_count": 2,
   "id": "a78d88bc",
   "metadata": {},
   "outputs": [
    {
     "name": "stdout",
     "output_type": "stream",
     "text": [
      "Tensor C and image center:\n",
      " [[ 0.  0.  0.]\n",
      " [ 0.  0. -0.]\n",
      " [ 0. -0.  1.]]\n"
     ]
    }
   ],
   "source": [
    "import numpy as np\n",
    "import pyvista as pv\n",
    "import SimpleITK as sitk\n",
    "from pathlib import Path\n",
    "\n",
    "# Read deformation gradient\n",
    "File = Path(path)\n",
    "Jacobian = sitk.ReadImage(File)\n",
    "Jacobian = sitk.GetArrayFromImage(Jacobian)\n",
    "Jacobian = Jacobian.transpose((2,1,0,3))\n",
    "\n",
    "# Build deformation gradient field\n",
    "F_Field = np.zeros(Jacobian.shape[:-1] + (3,3))\n",
    "for i in range(3):\n",
    "    for j in range(3):\n",
    "        F_Field[...,i,j] = Jacobian[...,-(i*3+j)-1]\n",
    "\n",
    "# Determinant of F\n",
    "J = np.linalg.det(F_Field)\n",
    "\n",
    "# Right Cauchy–Green tensor\n",
    "C = np.einsum('...ki,...kj->...ij', F_Field, F_Field)\n",
    "print(f'Tensor C and image center:\\n {C[32,32,32].round(3)}')\n"
   ]
  },
  {
   "cell_type": "code",
   "execution_count": 3,
   "id": "82e0f2bb",
   "metadata": {},
   "outputs": [
    {
     "name": "stdout",
     "output_type": "stream",
     "text": [
      "E (Green–Lagrange strain) at center voxel:\n",
      "[[-5.e-01  0.e+00  0.e+00]\n",
      " [ 0.e+00 -5.e-01 -0.e+00]\n",
      " [ 0.e+00 -0.e+00 -2.e-04]]\n"
     ]
    }
   ],
   "source": [
    "# Green–Lagrange strain tensor\n",
    "I = np.eye(3)\n",
    "I3 = np.ones(C.shape)\n",
    "for i in range(C.shape[0]):\n",
    "    for j in range(C.shape[1]):\n",
    "        for k in range(C.shape[2]):\n",
    "            I3[i,j,k] = I\n",
    "E = 0.5 * (C - I3)\n",
    "\n",
    "print(\"E (Green–Lagrange strain) at center voxel:\")\n",
    "print(E[32, 32, 32].round(4))\n"
   ]
  },
  {
   "cell_type": "code",
   "execution_count": 4,
   "id": "8d461fcb",
   "metadata": {},
   "outputs": [
    {
     "name": "stdout",
     "output_type": "stream",
     "text": [
      "E (Green–Lagrange strain) at center voxel:\n",
      "[[-5.e-01  0.e+00  0.e+00]\n",
      " [ 0.e+00 -5.e-01 -0.e+00]\n",
      " [ 0.e+00 -0.e+00 -2.e-04]]\n"
     ]
    }
   ],
   "source": [
    "# Green–Lagrange strain tensor\n",
    "I = np.eye(3)\n",
    "E = 0.5 * (C - I)\n",
    "\n",
    "print(\"E (Green–Lagrange strain) at center voxel:\")\n",
    "print(E[32, 32, 32].round(4))\n"
   ]
  }
 ],
 "metadata": {
  "kernelspec": {
   "display_name": "base",
   "language": "python",
   "name": "python3"
  },
  "language_info": {
   "codemirror_mode": {
    "name": "ipython",
    "version": 3
   },
   "file_extension": ".py",
   "mimetype": "text/x-python",
   "name": "python",
   "nbconvert_exporter": "python",
   "pygments_lexer": "ipython3",
   "version": "3.13.5"
  }
 },
 "nbformat": 4,
 "nbformat_minor": 5
}
